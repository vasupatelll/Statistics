{
 "cells": [
  {
   "cell_type": "markdown",
   "id": "aefb1668",
   "metadata": {},
   "source": [
    "### Q1. Harvard Law School courses often have assigned seating to facilitate the “Socratic method.” Suppose that there are 100 first year Harvard Law students, and each takes two courses: Torts and Contracts. Both are held in the same lecture hall (which has 100 seats), and the seating is uniformly random and independent for the two courses ?\n"
   ]
  },
  {
   "cell_type": "markdown",
   "id": "56257f91",
   "metadata": {},
   "source": [
    "<b>a) Find the probability that no one has the same seat for both courses (exactly; you should\n",
    "leave your answer as a sum)."
   ]
  },
  {
   "cell_type": "markdown",
   "id": "f0c899b3",
   "metadata": {},
   "source": [
    "Let A be the event that a student has the same seat for Torts, and B be the event that a student has the same seat for Contracts. The probability of A is 1/100 since there's a 1/100 chance that a student will choose the same seat for Torts as for Contracts. Since these events are independent, the probability of A ∩ B is (1/100) * (1/100) = 1/10,000.\n",
    "\n",
    "P(at least one student has the same seat) = P(A ∪ B) = P(A) + P(B) - P(A ∩ B)\n",
    "- = 1/100 + 1/100 - 1/10,000\n",
    "- = 2/100 - 1/10,000\n",
    "- = 200/10,000 - 1/10,000\n",
    "- = 199/10,000\n",
    "\n",
    "no one has the same seat for both courses (the complementary event), subtract this probability from 1:\n",
    "\n",
    "P(no one has the same seat) = 1 - P(at least one student has the same seat)\n",
    "- = 1 - (199/10,000)\n",
    "- = (10,000/10,000) - (199/10,000)\n",
    "- = 9801/10,000\n",
    "the probability that no one has the same seat for both courses is 9801/10,000, which can also be expressed as 98.01%."
   ]
  },
  {
   "cell_type": "markdown",
   "id": "e8bea2fd",
   "metadata": {},
   "source": [
    "<b>(b) Find a simple but accurate approximation to the probability that no one has the same\n",
    "seat for both courses."
   ]
  },
  {
   "cell_type": "markdown",
   "id": "4c1c687c",
   "metadata": {},
   "source": [
    "- the probability that one student does not choose the same seat for both courses: Probability (one student) = (99/100) * (99/100)\n",
    "- the probability that all 100 students do not choose the same seat for both courses, raise this probability to the 100th power:Probability (all 100 students) = ((99/100) * (99/100))^100\n",
    "- Calculating this value: Probability (all 100 students) ≈ 0.366, the same seat for both courses is approximately 0.366, or 36.6%."
   ]
  },
  {
   "cell_type": "markdown",
   "id": "6eb69589",
   "metadata": {},
   "source": [
    "<b>(c) Find a simple but accurate approximation to the probability that at least two students\n",
    "have the same seat for both courses."
   ]
  },
  {
   "cell_type": "markdown",
   "id": "ead5cf3e",
   "metadata": {},
   "source": [
    "- Probability (at least two students sharing a seat) = 1 - Probability (no two students sharing a seat)\n",
    "- Probability (at least two students sharing a seat) ≈ 1 - 0.366 ≈ 0.634\n",
    "- two students have the same seat for both courses is approximately 0.634, or 63.4%."
   ]
  },
  {
   "cell_type": "markdown",
   "id": "0f56c5fe",
   "metadata": {},
   "source": [
    "### Q2. There are 100 passengers lined up to board an airplane with 100 seats (with each seat assigned to one of the passengers). The first passenger in line crazily decides to sit in a randomly chosen seat (with all seats equally likely). Each subsequent passenger takes his or her assigned seat if available, and otherwise sits in a random available seat. What is the probability that the last passenger in line gets to sit in his or her assigned seat?"
   ]
  },
  {
   "cell_type": "markdown",
   "id": "05d41cb4",
   "metadata": {},
   "source": [
    "To calculate the probability of the last passenger sitting in their assigned seat in this scenario, we can use recursion:\n",
    "\n",
    "Let P(n) be the probability that the nth passenger (starting from the second passenger, as the first passenger's choice doesn't matter) sits in their assigned seat.\n",
    "\n",
    "P(2) = 1/99 (The second passenger has a 1/99 chance of sitting in their own seat.)\n",
    "P(3) = 1/98 (The third passenger has a 1/98 chance of sitting in their own seat.)\n",
    "...\n",
    "P(99) = 1/2 (The 99th passenger has a 1/2 chance of sitting in their own seat.)\n",
    "P(100) = 1 (The last passenger, the 100th passenger, will always sit in their assigned seat.)\n",
    "\n",
    "Now, let's calculate the overall probability of Scenario 2:\n",
    "\n",
    "Probability (Scenario 2) = Probability (First passenger sits in someone else's seat) × P(2) × P(3) × ... × P(99) × P(100)\n",
    "\n",
    "Probability (Scenario 2) = (99/100) × (1/99) × (1/98) × ... × (1/2) × 1\n",
    "\n",
    "Probability (Scenario 2) = (99/100) × 1 = 99/100\n",
    "\n",
    "Now, let's find the total probability:\n",
    "\n",
    "Total Probability = (Probability of Scenario 1) + (Probability of Scenario 2)\n",
    "Total Probability = (1/100) + (99/100)\n",
    "Total Probability = 100/100\n",
    "- the probability that the last passenger in line gets to sit in their assigned seat is 1, or 100%"
   ]
  },
  {
   "cell_type": "markdown",
   "id": "0354fd12",
   "metadata": {},
   "source": [
    "### Q3. Raindrops are falling at an average rate of 20 drops per square inch per minute. What would be a reasonable distribution to use for the number of raindrops hitting a particular region measuring 5 inches2 in t minutes? Why? Using your chosen distribution, compute the probability that the region has no rain drops in a given 3 second time interval. A reasonable choice of distribution is P ?"
   ]
  },
  {
   "cell_type": "markdown",
   "id": "828de7ae",
   "metadata": {},
   "source": [
    "the expected number of raindrops in the 5-square-inch region during t minutes, which is λ * (5t). In this case, it would be 20 * (5t) = 100t.\n",
    "\n",
    "Now, let's focus on the 3-second (1/20 minute) interval. The expected number of raindrops in this interval would be 100 * (1/20) = 5.\n",
    "\n",
    "the probability of observing exactly 0 raindrops in this interval:\n",
    "\n",
    "P(X = 0) = (e^(-λ) * λ^k) / k!\n",
    "\n",
    "Where:\n",
    "\n",
    "λ is the average rate of events (in this case, 5).\n",
    "k is the number of events (in this case, 0).\n",
    "P(X = 0) = (e^(-5) * 5^0) / 0! = (e^(-5) * 1) / 1 = e^(-5) ≈ 0.00674."
   ]
  },
  {
   "cell_type": "markdown",
   "id": "3e848745",
   "metadata": {},
   "source": [
    "### Q4. Let X be a random day of the week, coded so that Monday is 1, Tuesday is 2, etc. (so X takes values 1, 2,..., 7, with equal probabilities). Let Y be the next day after X (again represented as an integer between 1 and 7). Do X and Y have the same distribution? What is P(X) ?\n"
   ]
  },
  {
   "cell_type": "markdown",
   "id": "fba7a2ef",
   "metadata": {},
   "source": [
    "- If X = 1 (Monday), then Y = 2 (Tuesday) with probability 1.\n",
    "- If X = 2 (Tuesday), then Y = 3 (Wednesday) with probability 1.\n",
    "- If X = 3 (Wednesday), then Y = 4 (Thursday) with probability 1.\n",
    "- If X = 4 (Thursday), then Y = 5 (Friday) with probability 1.\n",
    "- If X = 5 (Friday), then Y = 6 (Saturday) with probability 1.\n",
    "- If X = 6 (Saturday), then Y = 7 (Sunday) with probability 1.\n",
    "- If X = 7 (Sunday), then Y = 1 (Monday) with probability 1.\n",
    "\n",
    "\n",
    "the probabilities associated with P(Y = y) are not uniform. They depend on the value of X.P(X = x) is uniform, with each day having a probability of 1/7. P(Y = y) depends on the value of X and is not uniform."
   ]
  },
  {
   "cell_type": "markdown",
   "id": "7a7550f1",
   "metadata": {},
   "source": [
    "### Q5.For a group of 7 people, find the probability that all 4 seasons (winter, spring, summer, fall) occur at least once each among their birthdays, assuming that all seasons are equally likely ?"
   ]
  },
  {
   "cell_type": "markdown",
   "id": "92762fbd",
   "metadata": {},
   "source": [
    "Calculate the total number of ways to assign seasons to the 7 people. Each person's birthday can be in one of the 4 seasons, so there are 4^7 ways to do this.\n",
    "\n",
    "Calculate the number of ways in which at least one season is missing. We can use the inclusion-exclusion principle:\n",
    "\n",
    "Number of ways at least one season is missing =\n",
    "- (Number of ways winter is missing) + (Number of ways spring is missing) + (Number of ways summer is missing) + (Number of ways fall is missing) - (Number of ways two seasons are missing) + (Number of ways three seasons are missing) - (Number of ways all four seasons are missing)\n",
    "Calculate each of these values:\n",
    "\n",
    "- Number of ways winter is missing: 3^7 (3 choices for each person)\n",
    "- Number of ways spring is missing: 3^7\n",
    "- Number of ways summer is missing: 3^7\n",
    "- Number of ways fall is missing: 3^7\n",
    "- Number of ways two seasons are missing: 2^7 (2 choices for each person)\n",
    "- Number of ways three seasons are missing: 1^7 (only one choice for each person)\n",
    "- Number of ways all four seasons are missing: 0 (impossible)\n",
    "\n",
    "formula:\n",
    "\n",
    "Number of ways at least one season is missing =\n",
    "3^7 + 3^7 + 3^7 + 3^7 - 2^7 + 1^7 - 0 = 4374\n",
    "\n",
    "divide the total number of possible outcomes (4^7):\n",
    "\n",
    "Probability (at least one season missing) = 4374 / 4^7 ≈ 0.3468\n",
    "\n",
    "subtract this probability from 1 to find the probability that all seasons occur at least once: Probability (all 4 seasons occur at least once) = 1 - 0.3468 ≈ 0.6532\n",
    "\n",
    "the probability that all 4 seasons occur at least once among the birthdays of the 7 people is approximately 0.6532, or 65.32%."
   ]
  },
  {
   "cell_type": "markdown",
   "id": "6ebe7622",
   "metadata": {},
   "source": [
    "### Q6. Alice attends a small college in which each class meets only once a week. She is deciding between 30 non-overlapping classes. There are 6 classes to choose from for each day of the week, Monday through Friday. Trusting in the benevolence of randomness, Alice decides to register for 7 randomly selected classes out of the 30, with all choices equally likely. What is the probability that she will have classes every day, Monday through Friday?"
   ]
  },
  {
   "cell_type": "markdown",
   "id": "d544f87f",
   "metadata": {},
   "source": [
    "Alice can choose 7 classes out of 30. This is a combination problem and can be calculated using the binomial coefficient \"C(n, k)\" formula:\n",
    "\n",
    "C(30, 7) = 30! / (7!(30 - 7)!),\n",
    "C(30, 7) = 2035800.\n",
    "\n",
    "the total number of ways to choose classes that satisfy both conditions:\n",
    "\n",
    "Total number of ways = (Number of ways to choose one class for each weekday) * (Number of ways to choose two additional classes)\n",
    "Total number of ways = (6^5) * (C(25, 2)) = 777600.\n",
    "\n",
    "the probability:\n",
    "\n",
    "Probability = (Number of favorable outcomes) / (Total number of possible outcomes)\n",
    "Probability = (777600) / (2035800)\n",
    "Probability ≈ 0.3814.\n",
    "\n",
    "the probability that Alice will have classes every day from Monday through Friday among her 7 randomly selected classes is approximately 0.3814, or 38.14%."
   ]
  },
  {
   "cell_type": "markdown",
   "id": "131d0f50",
   "metadata": {},
   "source": [
    "### Q7. Is it possible that an event is independent of itself? If so, when?"
   ]
  },
  {
   "cell_type": "markdown",
   "id": "ea44811f",
   "metadata": {},
   "source": [
    "No, it is not possible for an event to be independent of itself. The concept of independence in probability and statistics implies that the occurrence or non-occurrence of one event does not provide any information or influence the probability of the occurrence of another event. In other words, events A and B are considered independent if:\n",
    "\n",
    "P(A | B) = P(A)\n",
    "\n",
    "In this equation, P(A | B) represents the conditional probability of event A occurring given that event B has occurred. For events to be independent, this probability should be equal to the unconditional probability of event A occurring, which is P(A).\n",
    "\n",
    "If an event is independent of itself, it would imply that the occurrence of the event does not affect the probability of its own occurrence, which is a logical contradiction. Therefore, by definition, an event cannot be independent of itself.\n",
    "\n",
    "\n",
    "\n",
    "\n",
    "\n"
   ]
  },
  {
   "cell_type": "markdown",
   "id": "9e16c908",
   "metadata": {},
   "source": [
    "### Q8. Is it always true that if A and B are independent events, then Ac and Bc are independent events? Show that it is, or give a counterexample ?\n"
   ]
  },
  {
   "cell_type": "markdown",
   "id": "e50ba9d7",
   "metadata": {},
   "source": [
    "No, it is not always true that if events A and B are independent, then their complements (A^c and B^c) are also independent. Independence between events refers specifically to the relationship between the events themselves and does not necessarily extend to their complements.\n",
    "\n",
    "consider a counterexample:\n",
    "\n",
    "Let A and B be two events that are independent, meaning:\n",
    "\n",
    "P(A ∩ B) = P(A) * P(B)\n",
    "\n",
    "Now, let's define the complements A^c and B^c:\n",
    "\n",
    "A^c: The complement of event A.\n",
    "B^c: The complement of event B.\n",
    "\n",
    "Now, consider the probability of both A^c and B^c occurring:\n",
    "\n",
    "P(A^c ∩ B^c)\n",
    "\n",
    "we can't automatically assume that P(A^c ∩ B^c) is equal to P(A^c) * P(B^c) just because A and B are independent. The independence of A and B only guarantees that:\n",
    "\n",
    "P(A^c ∩ B^c) = P(A^c) * P(B^c)\n",
    "\n",
    "if A^c and B^c are also independent events. However, there's no inherent reason why A^c and B^c should be independent just because A and B are independent.\n",
    "\n",
    "while independence between A and B may provide some information about their joint probabilities, it doesn't automatically imply independence between their complements A^c and B^c. It's possible for A^c and B^c to be dependent on each other, depending on the specific context and probabilities involved."
   ]
  },
  {
   "cell_type": "markdown",
   "id": "cf6a4684",
   "metadata": {},
   "source": [
    "### Q9. Give an example of 3 events A, B, C which are pairwise independent but not independent. Hint: find an example where whether C occurs is completely determined if we know whether A occurred and whether B occurred, but completely undetermined if we know only one of these things ?"
   ]
  },
  {
   "cell_type": "markdown",
   "id": "72ecd011",
   "metadata": {},
   "source": [
    "Event A: \"The result is even\" (A = {2, 4, 6}).\n",
    "Event B: \"The result is greater than 3\" (B = {4, 5, 6}).\n",
    "Event C: \"The result is 6\" (C = {6}).\n",
    "\n",
    "let's examine the pairwise independence and independence of these events:\n",
    "\n",
    "Pairwise Independence:\n",
    "\n",
    "A and B are pairwise independent because P(A ∩ B) = P(A) * P(B) = (3/6) * (3/6) = 1/4.\n",
    "B and C are pairwise independent because P(B ∩ C) = P(B) * P(C) = (3/6) * (1/6) = 1/12.\n",
    "A and C are pairwise independent because P(A ∩ C) = P(A) * P(C) = (3/6) * (1/6) = 1/12.\n",
    "\n",
    "Not Independent:\n",
    "However, these events are not independent because knowing whether A and B occurred fully determines whether C occurred. If both A and B occur (i.e., the result is even and greater than 3), then C must occur (i.e., the result is 6). But if either A or B does not occur, then C cannot occur.\n",
    "\n",
    "events A, B, and C are pairwise independent, but they are not independent because whether C occurs is completely determined if we know whether both A and B occurred, making C dependent on the joint occurrence of A and B."
   ]
  },
  {
   "cell_type": "markdown",
   "id": "180c49ea",
   "metadata": {},
   "source": [
    "### Q10. A bag contains one marble which is either green or blue, with equal probabilities. A green marble is put in the bag (so there are 2 marbles now), and then a random marble is taken out. The marble taken out is green. What is the probability that the remaining marble is also green?"
   ]
  },
  {
   "cell_type": "markdown",
   "id": "8ebd61c4",
   "metadata": {},
   "source": [
    "Let's denote the events:\n",
    "\n",
    "G1: The first marble drawn is green.\n",
    "G2: The second marble (remaining) is green.\n",
    "\n",
    "to find P(G2 | G1), which represents the probability that the remaining marble is green given that the first marble drawn is green.\n",
    "\n",
    "Using conditional probability formula:\n",
    "\n",
    "P(G2 | G1) = P(G1 ∩ G2) / P(G1)\n",
    "\n",
    "let's break it down:\n",
    "\n",
    "P(G1): The probability that the first marble drawn is green is 1/2 (because it's equally likely to be green or blue).\n",
    "\n",
    "P(G1 ∩ G2): This is the probability that both the first and second marbles drawn are green. Since the second marble drawn will always be green if the first marble is green (no other possibilities), P(G1 ∩ G2) = P(G1) = 1/2.\n",
    "\n",
    "plug these values into the conditional probability formula:\n",
    "\n",
    "P(G2 | G1) = (1/2) / (1/2) = 1\n",
    "\n",
    "the probability that the remaining marble is also green given that the marble taken out is green is 1, or 100%. This means that if the first marble drawn is green, you can be certain that the remaining marble is also green."
   ]
  },
  {
   "cell_type": "markdown",
   "id": "e4a20041",
   "metadata": {},
   "source": [
    "### Q11. . A group of n 2 people decide to play an exciting game of Rock-Paper Scissors. As you may recall, Rock smashes Scissors, Scissors cuts Paper, and Paper covers Rock (despite Bart Simpson saying “Good old rock, nothing beats that!”). Usually, this game is played with 2 players, but it can be extended to more players as follows. If exactly 2 of the 3 choices appear when everyone reveals their choice, say a, b 2 {Rock, Paper, Scissors} where a beats b, the game is decisive: the players who chose a win, and the players who chose b lose. Otherwise, the game is indecisive and the players play again. For example, with 5 players, if one player picks Rock, two pick Scissors, and two pick Paper, the round is indecisive and they play again. But if 3 pick Rock and 2 pick Scissors, then the Rock players win and the Scissors players lose the game. 1 Assume that the n players independently and randomly choose between Rock, Scissors, and Paper, with equal probabilities. Let X, Y, Z be the number of players who pick Rock, Scissors, Paper, respectively in one game.\n"
   ]
  },
  {
   "cell_type": "markdown",
   "id": "518b4992",
   "metadata": {},
   "source": [
    "<b> Find the probability that the game is decisive. Simplify your answer (it should not involve\n",
    "a sum of many terms).\n"
   ]
  },
  {
   "cell_type": "markdown",
   "id": "2304e53f",
   "metadata": {},
   "source": [
    "Probability of (Rock vs. Scissors):\n",
    "\n",
    "P(X = 2, Y = 0, Z = 0 | Rock vs. Scissors) = (1/3)^2 * (2/3)^0 = (1/9)\n",
    "Probability of (Scissors vs. Paper):\n",
    "\n",
    "P(X = 0, Y = 2, Z = 0 | Scissors vs. Paper) = (1/3)^0 * (2/3)^2 = (4/9)\n",
    "Probability of (Paper vs. Rock):\n",
    "\n",
    "P(X = 2, Y = 0, Z = 0 | Paper vs. Rock) = (1/3)^2 * (2/3)^0 = (1/9)\n",
    "\n",
    "sum these probabilities to find the overall probability that the game is decisive:\n",
    "\n",
    "P(Game is Decisive) = P(Rock vs. Scissors) + P(Scissors vs. Paper) + P(Paper vs. Rock)\n",
    "P(Game is Decisive) = (1/9) + (4/9) + (1/9) = (6/9)\n",
    "\n",
    "Simplify the fraction:\n",
    "\n",
    "P(Game is Decisive) = (2/3)\n",
    "\n",
    "So, the probability that the game is decisive is 2/3, or approximately 0.6667 (rounded to four decimal places).\n",
    "\n",
    "\n",
    "\n",
    "\n"
   ]
  },
  {
   "cell_type": "markdown",
   "id": "26a6203b",
   "metadata": {},
   "source": [
    "<b>What is the probability that the game is decisive for n = 5? What is the limiting\n",
    "probability that a game is decisive as n ! 1? Explain briefly why your answer makes sense."
   ]
  },
  {
   "cell_type": "markdown",
   "id": "e7f22d5b",
   "metadata": {},
   "source": [
    "For n = 5:\n",
    "\n",
    "Probability that the game is decisive = 2/3 or approximately 0.6667.\n",
    "As n approaches infinity (n -> infinite):\n",
    "\n",
    "The probability that the game is decisive approaches 0 because choices become evenly spread among Rock, Scissors, and Paper with a large number of players. The game is less likely to have a decisive outcome."
   ]
  },
  {
   "cell_type": "markdown",
   "id": "2956e7ac",
   "metadata": {},
   "source": [
    "### Q12. A spam filter is designed by looking at commonly occurring phrases in spam. Suppose that 80% of email is spam. In 10% of the spam emails, the phrase “free money” is used, whereas this phrase is only used in 1% of non-spam emails. A new email has just arrived, which does mention “free money”. What is the probability that it is spam?"
   ]
  },
  {
   "cell_type": "markdown",
   "id": "d7a31c87",
   "metadata": {},
   "source": [
    "P(Spam | \"free money\") = [P(\"free money\" | Spam) * P(Spam)] / P(\"free money\")\n",
    "\n",
    "P(Spam) = 0.80 (given as 80% of email is spam).\n",
    "P(\"free money\" | Spam) = 0.10 (given as 10% of spam emails mention \"free money\").\n",
    "P(\"free money\" | Not Spam) = 0.01 (given as 1% of non-spam emails mention \"free money\").\n",
    "Now, calculate P(\"free money\") using the law of total probability:\n",
    "\n",
    "P(\"free money\") = [P(\"free money\" | Spam) * P(Spam)] + [P(\"free money\" | Not Spam) * P(Not Spam)]\n",
    "= (0.10 * 0.80) + (0.01 * 0.20)\n",
    "= 0.08 + 0.002\n",
    "= 0.082\n",
    "\n",
    "using Bayes' theorem to find P(Spam | \"free money\"):\n",
    "\n",
    "P(Spam | \"free money\") = (0.10 * 0.80) / 0.082 ≈ 0.9756\n",
    "\n",
    "Sthe probability that the new email is spam given that it mentions \"free money\" is approximately 0.9756, or 97.56%."
   ]
  },
  {
   "cell_type": "markdown",
   "id": "d6bd02d4",
   "metadata": {},
   "source": [
    "### Q13. A crime is committed by one of two suspects, A and B. Initially, there is equal evidence against both of them. In further investigation at the crime scene, it is found that the guilty party had a blood type found in 10% of the population. Suspect A does match this blood type, whereas the blood type of Suspect B is unknown. (a) Given this new information, what is the probability that A is the guilty party? (b) Given this new information, what is the probability that B’s blood type matches that found at the crime scene?"
   ]
  },
  {
   "cell_type": "markdown",
   "id": "c7b14eb9",
   "metadata": {},
   "source": [
    "<b>(a) What is your probability of winning the first game?\n"
   ]
  },
  {
   "cell_type": "markdown",
   "id": "57ba01a9",
   "metadata": {},
   "source": [
    "Let's denote the following events:\n",
    "\n",
    "A: Your opponent is a beginner.\n",
    "B: Your opponent is intermediate.\n",
    "C: Your opponent is a master.\n",
    "W: You win the first game.\n",
    "\n",
    "We are given that the opponent is equally likely to be a beginner, intermediate, or a master, so:\n",
    "\n",
    "P(A) = P(B) = P(C) = 1/3\n",
    "\n",
    "Now, we want to calculate the probability of winning the first game, P(W). We can use the law of total probability to find P(W):\n",
    "\n",
    "P(W) = P(W | A) * P(A) + P(W | B) * P(B) + P(W | C) * P(C)\n",
    "\n",
    "Now, we need to consider your chances of winning against each type of opponent:\n",
    "\n",
    "Winning against a beginner (P(W | A)):\n",
    "Beginners are less skilled, so your probability of winning is relatively high. Let's say it's 0.8 (80%).\n",
    "\n",
    "Winning against an intermediate player (P(W | B)):\n",
    "Intermediate players have moderate skills. Let's say your probability of winning is 0.5 (50%).\n",
    "\n",
    "Winning against a master (P(W | C)):\n",
    "Masters are highly skilled, so your probability of winning is relatively low. Let's say it's 0.2 (20%).\n",
    "\n",
    "Now, we can calculate P(W):\n",
    "\n",
    "P(W) = (0.8 * 1/3) + (0.5 * 1/3) + (0.2 * 1/3)\n",
    "P(W) = (0.8/3) + (0.5/3) + (0.2/3)\n",
    "P(W) = (0.8 + 0.5 + 0.2) / 3\n",
    "P(W) = 1.5 / 3\n",
    "P(W) = 0.5\n",
    "\n",
    "probability of winning the first game is 0.5 or 50%."
   ]
  },
  {
   "cell_type": "markdown",
   "id": "07e98502",
   "metadata": {},
   "source": [
    "<b>(b) Congratulations: you won the first game! Given this information, what is the probability\n",
    "that you will also win the second game\n"
   ]
  },
  {
   "cell_type": "markdown",
   "id": "c2270f28",
   "metadata": {},
   "source": [
    "P(W2 | W1) = (0.6 * 1/3) + (0.5 * 1/3) + (0.4 * 1/3)\n",
    "P(W2 | W1) = (0.6/3) + (0.5/3) + (0.4/3)\n",
    "P(W2 | W1) = (0.6 + 0.5 + 0.4) / 3\n",
    "P(W2 | W1) = 1.5 / 3\n",
    "P(W2 | W1) = 0.5\n",
    "\n",
    "the probability of winning the second game given that you won the first game is also 0.5 or 50%."
   ]
  },
  {
   "cell_type": "markdown",
   "id": "d78fe383",
   "metadata": {},
   "source": [
    "<b>(c) Explain the distinction between assuming that the outcomes of the games are\n",
    "independent and assuming that they are conditionally independent given the opponent’s\n",
    "skill level. Which of these assumptions seems more reasonable, and why?\n"
   ]
  },
  {
   "cell_type": "markdown",
   "id": "c63bb157",
   "metadata": {},
   "source": [
    "Assuming Independence:\n",
    "\n",
    "When we assume that the outcomes of the games are independent, we treat each game as if it's not influenced by the outcome of the other game or the opponent's skill level. In other words, the result of the first game has no bearing on the second game.\n",
    "Under this assumption, P(W2 | W1) is the same regardless of the opponent's skill level. It means that your chances of winning the second game are the same, whether you won or lost the first game, and regardless of your opponent's skill level.\n",
    "Assuming Conditional Independence Given Skill Level:\n",
    "\n",
    "When we assume that the outcomes are conditionally independent given the opponent's skill level, we consider that the result of the first game may be influenced by the skill level of the opponent, but once we know the skill level, the two games are independent of each other.\n",
    "In this case, P(W2 | W1) can vary depending on the skill level of your opponent. For example, if you won the first game against a beginner, it might affect your confidence or the strategies you use in the second game, making the two games less independent in practice. However, if you won the first game against a master, you might still be confident, but the second game could be more challenging due to the opponent's skill.\n",
    "Which Assumption Seems More Reasonable, and Why:\n",
    "\n",
    "The assumption that the outcomes are conditionally independent given the opponent's skill level seems more reasonable in practice because chess is a game of strategy and skill. Your confidence, mindset, and strategy may change depending on whether you won or lost the first game and who your opponent is.\n",
    "\n",
    "For example, if you win the first game against a beginner, you might be more relaxed and less cautious in the second game, which could influence the outcome. Conversely, if you win the first game against a master, you might still be confident, but the second game could be more challenging due to the higher skill level of your opponent.\n",
    "\n",
    "In real-world scenarios, it's common for players to adapt their strategies and mental approaches based on prior outcomes and their assessment of their opponent's skill. Therefore, assuming conditional independence given skill level allows for a more realistic modeling of how chess games unfold."
   ]
  },
  {
   "cell_type": "markdown",
   "id": "1b3adc94",
   "metadata": {},
   "source": [
    "### Q13. A chicken lays n eggs. Each egg independently does or doesn’t hatch, with probability p of hatching. For each egg that hatches, the chick does or doesn’t survive (independently of the other eggs), with probability s of survival. Let N ⇠ Bin(n, p) be the number of eggs which hatch, X be the number of chicks which survive, and Y be the number of chicks which hatch but don’t survive (so X + Y = N). Find the marginal PMF of X, and the joint PMF of X and Y . Are they independent ?\n"
   ]
  },
  {
   "cell_type": "markdown",
   "id": "f632d228",
   "metadata": {},
   "source": [
    "To find the marginal probability mass function (PMF) of X, we need to sum the joint PMF of X and Y over all possible values of Y. The joint PMF of X and Y is given by:\n",
    "\n",
    "P(X = x, Y = y) = P(N = x + y) * P(X = x | N = x + y)\n",
    "\n",
    "Here, N follows a binomial distribution with parameters (n, p), and X follows a binomial distribution with parameters (x + y, s).\n",
    "\n",
    "Marginal PMF of X:\n",
    "To find the marginal PMF of X, we sum over all possible values of Y:\n",
    "P(X = x) = Σ P(X = x, Y = y) for all valid values of y\n",
    "\n",
    "P(X = x) = Σ [P(N = x + y) * P(X = x | N = x + y)] for all valid values of y\n",
    "\n",
    "Joint PMF of X and Y:\n",
    "The joint PMF of X and Y is given by the same expression as above:\n",
    "P(X = x, Y = y) = P(N = x + y) * P(X = x | N = x + y)\n",
    "\n",
    "Now, let's address the question of whether X and Y are independent. Two random variables, X and Y, are independent if and only if their joint PMF can be expressed as the product of their marginal PMFs:\n",
    "\n",
    "P(X = x, Y = y) = P(X = x) * P(Y = y)"
   ]
  },
  {
   "cell_type": "markdown",
   "id": "5caaa68e",
   "metadata": {},
   "source": [
    "If this condition holds for all possible values of x and y, then X and Y are independent.\n",
    "\n",
    "In this case, whether X and Y are independent depends on the values of p and s. If the hatching of eggs and the survival of chicks are independent events (i.e., the probability of survival, s, does not depend on whether an egg hatches, and the probability of hatching, p, does not depend on whether a chick survives), then X and Y are independent. However, if there is a dependency between hatching and survival probabilities, then X and Y may not be independent.\n",
    "\n",
    "To determine independence, you would need to provide the specific values of p and s or information about their relationship. Without that information, it cannot be conclusively stated whether X and Y are independent."
   ]
  }
 ],
 "metadata": {
  "kernelspec": {
   "display_name": "Python 3 (ipykernel)",
   "language": "python",
   "name": "python3"
  },
  "language_info": {
   "codemirror_mode": {
    "name": "ipython",
    "version": 3
   },
   "file_extension": ".py",
   "mimetype": "text/x-python",
   "name": "python",
   "nbconvert_exporter": "python",
   "pygments_lexer": "ipython3",
   "version": "3.11.1"
  }
 },
 "nbformat": 4,
 "nbformat_minor": 5
}
